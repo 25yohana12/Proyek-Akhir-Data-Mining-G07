{
 "cells": [
  {
   "cell_type": "markdown",
   "id": "ln6MjLH9Rhcs",
   "metadata": {
    "id": "ln6MjLH9Rhcs"
   },
   "source": [
    "### ANGGOTA KELOMPOK 07\n",
    "##### - 12S22003 – Yohana Natalia Siahaan\n",
    "##### - 12S22016 – Desri Stevie Natalie Dabukke\n",
    "##### - 12S22017 – Lenna Febriana"
   ]
  },
  {
   "cell_type": "markdown",
   "id": "2a430db6-e931-4fdf-a062-0368ae4fda09",
   "metadata": {},
   "source": [
    "Data Undestanding"
   ]
  },
  {
   "cell_type": "markdown",
   "id": "f9fe32a0-0f12-404d-a443-5d6596a9394f",
   "metadata": {},
   "source": [
    "Kode tersebut bertujuan untuk membaca atau memuat empat file dataset ke dalam Python"
   ]
  },
  {
   "cell_type": "code",
   "execution_count": 113,
   "id": "Msa7nq11pC9b",
   "metadata": {
    "id": "Msa7nq11pC9b"
   },
   "outputs": [],
   "source": [
    "import pandas as pd\n",
    "\n",
    "# Load the datasets with the new names\n",
    "PA_metadata_train_file = 'GLC25_PA_metadata_train.csv'\n",
    "P0_metadata_train_file = 'GLC25_P0_metadata_train.csv'\n",
    "PA_soil_train_file = 'GLC25-PA-train-soilgrids.csv'\n",
    "P0_soil_train_file = 'GLC25-PO-train-soilgrids.csv'"
   ]
  },
  {
   "cell_type": "markdown",
   "id": "1462450a-3eda-456c-9078-ad17db5014ba",
   "metadata": {},
   "source": [
    "Bagian ini menggunakan fungsi pd.read_csv() untuk membaca file-file CSV tersebut dan mengubahnya menjadi DataFrame, yang kemudian bisa digunakan untuk analisis data, penggabungan, dan pelatihan model prediksi spesies.\n",
    "\n",
    "Singkatnya: Membaca empat file CSV berisi data spesies dan lingkungan, lalu menyimpannya sebagai DataFrame untuk analisis selanjutnya"
   ]
  },
  {
   "cell_type": "code",
   "execution_count": 115,
   "id": "cF8gGqy-s1P2",
   "metadata": {
    "id": "cF8gGqy-s1P2"
   },
   "outputs": [],
   "source": [
    "PA_metadata_train_file = r'C:\\Users\\ASUS\\Documents\\semester 6\\DAMI\\proyek\\GLC25_PA_metadata_train.csv'\n",
    "P0_metadata_train_file = r'C:\\Users\\ASUS\\Documents\\semester 6\\DAMI\\proyek\\GLC25_P0_metadata_train.csv'\n",
    "PA_soil_train_file = r'C:\\Users\\ASUS\\Documents\\semester 6\\DAMI\\proyek\\GLC25-PA-train-soilgrids.csv'\n",
    "P0_soil_train_file = r'C:\\Users\\ASUS\\Documents\\semester 6\\DAMI\\proyek\\GLC25-PO-train-soilgrids.csv'\n",
    "\n",
    "PA_metadata_train = pd.read_csv(PA_metadata_train_file)\n",
    "P0_metadata_train = pd.read_csv(P0_metadata_train_file)\n",
    "PA_soil_train = pd.read_csv(PA_soil_train_file)\n",
    "P0_soil_train = pd.read_csv(P0_soil_train_file)\n"
   ]
  },
  {
   "cell_type": "markdown",
   "id": "8a3439ad-dc04-43f0-a81b-1684b43c9c93",
   "metadata": {},
   "source": [
    "Kode ini berfungsi untuk mengambil 500 baris pertama dari masing-masing DataFrame yang telah dibaca sebelumnya. Tujuannya untuk:\n",
    "\n",
    "Mempercepat proses analisis awal atau debugging, karena data asli sangat besar.\n",
    "\n"
   ]
  },
  {
   "cell_type": "code",
   "execution_count": 117,
   "id": "3q3a9HqXO0PA",
   "metadata": {
    "id": "3q3a9HqXO0PA"
   },
   "outputs": [],
   "source": [
    "PA_metadata_train_top500 = PA_metadata_train.head(500)\n",
    "P0_metadata_train_top500 = P0_metadata_train.head(500)\n",
    "PA_soil_train_top500 = PA_soil_train.head(500)\n",
    "P0_soil_train_top500 = P0_soil_train.head(500)"
   ]
  },
  {
   "cell_type": "markdown",
   "id": "3da7909a-dc6b-47f9-90e2-11371381ac27",
   "metadata": {},
   "source": [
    "kode ini membuat versi CSV dari sampel data, sehingga bisa digunakan untuk uji coba ringan tanpa membebani memori atau waktu komputasi."
   ]
  },
  {
   "cell_type": "code",
   "execution_count": 119,
   "id": "J7EI6i7cs3mY",
   "metadata": {
    "id": "J7EI6i7cs3mY"
   },
   "outputs": [],
   "source": [
    "PA_metadata_train_top500.to_csv('500_PA_metadata_train.csv', index=False)\n",
    "P0_metadata_train_top500.to_csv('500_P0_metadata_train.csv', index=False)\n",
    "PA_soil_train_top500.to_csv('500_PA_soil_train.csv', index=False)\n",
    "P0_soil_train_top500.to_csv('500_P0_soil_train.csv', index=False)"
   ]
  },
  {
   "cell_type": "markdown",
   "id": "1eb01606-545f-4ca9-a9ce-95d1504bff1e",
   "metadata": {},
   "source": [
    "Kode ini bertujuan untuk mendefinisikan nama file CSV yang berisi sampel data (masing-masing 500 baris pertama), yang sebelumnya telah disimpan."
   ]
  },
  {
   "cell_type": "code",
   "execution_count": 121,
   "id": "8qHSXlk7o98p",
   "metadata": {
    "id": "8qHSXlk7o98p"
   },
   "outputs": [],
   "source": [
    "import pandas as pd\n",
    "\n",
    "# Load the datasets with the new names\n",
    "PA_metadata_train_top500_file = '500_PA_metadata_train.csv'\n",
    "P0_metadata_train_top500_file = '500_P0_metadata_train.csv'\n",
    "PA_soil_train_top500_file = '500_PA_soil_train.csv'\n",
    "PA_soil_train_top500_file = '500_P0_soil_train.csv'"
   ]
  },
  {
   "cell_type": "markdown",
   "id": "8cd2244a-016b-4327-8b11-fd7dc8e4d1f1",
   "metadata": {},
   "source": [
    "Tujuan dari kode ini adalah untuk membaca ulang file CSV hasil sampel (500 baris pertama) yang sebelumnya sudah disimpan, dan memuatnya kembali ke dalam bentuk DataFrame"
   ]
  },
  {
   "cell_type": "code",
   "execution_count": 123,
   "id": "HXRmDdACpoBY",
   "metadata": {
    "id": "HXRmDdACpoBY"
   },
   "outputs": [],
   "source": [
    "PA_metadata_train_top500 = pd.read_csv(PA_metadata_train_top500_file)\n",
    "P0_metadata_train_top500 = pd.read_csv(P0_metadata_train_top500_file)\n",
    "PA_soil_train_top500 = pd.read_csv(PA_soil_train_top500_file)\n",
    "P0_soil_train_top500 = pd.read_csv(PA_soil_train_top500_file)"
   ]
  },
  {
   "cell_type": "markdown",
   "id": "58e316eb-1022-43fe-8c32-b4708cb51714",
   "metadata": {},
   "source": [
    "Tujuan dari blok kode ini adalah untuk melakukan eksplorasi awal terhadap dataset sampel guna memahami struktur, isi, dan kualitas data sebelum digunakan dalam proses pemodelan. Pertama, fungsi .info() digunakan untuk melihat gambaran umum dari masing-masing DataFrame, seperti jumlah baris, kolom, tipe data, dan apakah ada kolom dengan nilai kosong. Kemudian, .head() digunakan untuk menampilkan beberapa baris pertama dari setiap dataset agar bisa melihat bentuk nyata data serta format atau isi dari tiap kolom. Terakhir, .isnull().sum() digunakan untuk menghitung jumlah nilai yang hilang pada setiap kolom, yang penting untuk mengidentifikasi apakah data perlu dibersihkan atau diproses lebih lanjut. Dengan langkah-langkah ini, kita dapat memastikan bahwa data yang akan dianalisis atau dilatih sudah berada dalam kondisi yang layak dan sesuai ekspektasi.\n"
   ]
  },
  {
   "cell_type": "code",
   "execution_count": 125,
   "id": "xqpdMzI2RZnq",
   "metadata": {
    "colab": {
     "base_uri": "https://localhost:8080/",
     "height": 1000
    },
    "id": "xqpdMzI2RZnq",
    "outputId": "6baa12fe-0cea-4754-f2ac-9289dfd0261b"
   },
   "outputs": [
    {
     "name": "stdout",
     "output_type": "stream",
     "text": [
      "<class 'pandas.core.frame.DataFrame'>\n",
      "RangeIndex: 500 entries, 0 to 499\n",
      "Data columns (total 9 columns):\n",
      " #   Column             Non-Null Count  Dtype  \n",
      "---  ------             --------------  -----  \n",
      " 0   lon                500 non-null    float64\n",
      " 1   lat                500 non-null    float64\n",
      " 2   year               500 non-null    int64  \n",
      " 3   geoUncertaintyInM  476 non-null    float64\n",
      " 4   areaInM2           452 non-null    float64\n",
      " 5   region             500 non-null    object \n",
      " 6   country            500 non-null    object \n",
      " 7   speciesId          500 non-null    float64\n",
      " 8   surveyId           500 non-null    int64  \n",
      "dtypes: float64(5), int64(2), object(2)\n",
      "memory usage: 35.3+ KB\n",
      "<class 'pandas.core.frame.DataFrame'>\n",
      "RangeIndex: 500 entries, 0 to 499\n",
      "Data columns (total 12 columns):\n",
      " #   Column             Non-Null Count  Dtype  \n",
      "---  ------             --------------  -----  \n",
      " 0   publisher          500 non-null    object \n",
      " 1   year               500 non-null    int64  \n",
      " 2   month              500 non-null    float64\n",
      " 3   day                500 non-null    float64\n",
      " 4   lat                500 non-null    float64\n",
      " 5   lon                500 non-null    float64\n",
      " 6   geoUncertaintyInM  500 non-null    float64\n",
      " 7   taxonRank          500 non-null    object \n",
      " 8   date               500 non-null    object \n",
      " 9   dayOfYear          500 non-null    int64  \n",
      " 10  speciesId          500 non-null    float64\n",
      " 11  surveyId           500 non-null    int64  \n",
      "dtypes: float64(6), int64(3), object(3)\n",
      "memory usage: 47.0+ KB\n",
      "<class 'pandas.core.frame.DataFrame'>\n",
      "RangeIndex: 500 entries, 0 to 499\n",
      "Data columns (total 10 columns):\n",
      " #   Column             Non-Null Count  Dtype  \n",
      "---  ------             --------------  -----  \n",
      " 0   surveyId           500 non-null    int64  \n",
      " 1   Soilgrid-bdod      409 non-null    float64\n",
      " 2   Soilgrid-cec       411 non-null    float64\n",
      " 3   Soilgrid-cfvo      411 non-null    float64\n",
      " 4   Soilgrid-clay      411 non-null    float64\n",
      " 5   Soilgrid-nitrogen  411 non-null    float64\n",
      " 6   Soilgrid-phh2o     411 non-null    float64\n",
      " 7   Soilgrid-sand      411 non-null    float64\n",
      " 8   Soilgrid-silt      411 non-null    float64\n",
      " 9   Soilgrid-soc       409 non-null    float64\n",
      "dtypes: float64(9), int64(1)\n",
      "memory usage: 39.2 KB\n",
      "<class 'pandas.core.frame.DataFrame'>\n",
      "RangeIndex: 500 entries, 0 to 499\n",
      "Data columns (total 10 columns):\n",
      " #   Column             Non-Null Count  Dtype  \n",
      "---  ------             --------------  -----  \n",
      " 0   surveyId           500 non-null    int64  \n",
      " 1   Soilgrid-bdod      409 non-null    float64\n",
      " 2   Soilgrid-cec       411 non-null    float64\n",
      " 3   Soilgrid-cfvo      411 non-null    float64\n",
      " 4   Soilgrid-clay      411 non-null    float64\n",
      " 5   Soilgrid-nitrogen  411 non-null    float64\n",
      " 6   Soilgrid-phh2o     411 non-null    float64\n",
      " 7   Soilgrid-sand      411 non-null    float64\n",
      " 8   Soilgrid-silt      411 non-null    float64\n",
      " 9   Soilgrid-soc       409 non-null    float64\n",
      "dtypes: float64(9), int64(1)\n",
      "memory usage: 39.2 KB\n"
     ]
    },
    {
     "data": {
      "text/plain": [
       "surveyId              0\n",
       "Soilgrid-bdod        91\n",
       "Soilgrid-cec         89\n",
       "Soilgrid-cfvo        89\n",
       "Soilgrid-clay        89\n",
       "Soilgrid-nitrogen    89\n",
       "Soilgrid-phh2o       89\n",
       "Soilgrid-sand        89\n",
       "Soilgrid-silt        89\n",
       "Soilgrid-soc         91\n",
       "dtype: int64"
      ]
     },
     "execution_count": 125,
     "metadata": {},
     "output_type": "execute_result"
    }
   ],
   "source": [
    "# Menelaah Data\n",
    "\n",
    "# Memeriksa struktur dataset\n",
    "PA_metadata_train_top500.info()\n",
    "P0_metadata_train_top500.info()\n",
    "PA_soil_train_top500.info()\n",
    "P0_soil_train_top500.info()\n",
    "\n",
    "# Memeriksa beberapa baris pertama\n",
    "PA_metadata_train_top500.head()\n",
    "P0_metadata_train_top500.head()\n",
    "PA_soil_train_top500.head()\n",
    "P0_soil_train_top500.head()\n",
    "\n",
    "# Memeriksa nilai yang hilang\n",
    "PA_metadata_train_top500.isnull().sum()\n",
    "P0_metadata_train_top500.isnull().sum()\n",
    "PA_soil_train_top500.isnull().sum()\n",
    "P0_soil_train_top500.isnull().sum()"
   ]
  },
  {
   "cell_type": "markdown",
   "id": "0fDv5R27s_8Z",
   "metadata": {
    "id": "0fDv5R27s_8Z"
   },
   "source": [
    "Data Preparation\n"
   ]
  },
  {
   "cell_type": "markdown",
   "id": "9a9cdfcb-2216-420d-a296-06815dc00e98",
   "metadata": {},
   "source": [
    "Tujuan dari kode ini adalah untuk mengidentifikasi dan menampilkan jumlah nilai yang hilang (NaN) pada setiap kolom dari keempat dataset sampel yang digunakan. Langkah pertama menggunakan .isnull().sum() untuk menghitung jumlah nilai yang hilang per kolom, lalu hasilnya disimpan dalam variabel khusus untuk masing-masing dataset. Setelah itu, print() digunakan untuk menampilkan hasil tersebut secara terstruktur di terminal atau output konsol, sehingga kita bisa mengetahui kolom mana saja yang memiliki missing value dan berapa jumlahnya. Informasi ini penting sebagai dasar untuk menentukan apakah data perlu diperbaiki, diimputasi, atau kolom tertentu perlu dibuang sebelum digunakan dalam analisis atau pelatihan model prediksi."
   ]
  },
  {
   "cell_type": "code",
   "execution_count": 128,
   "id": "bjUepvEdXA-j",
   "metadata": {
    "colab": {
     "base_uri": "https://localhost:8080/"
    },
    "id": "bjUepvEdXA-j",
    "outputId": "e7cbd838-72a2-41e0-e60c-bf1633443dfc"
   },
   "outputs": [
    {
     "name": "stdout",
     "output_type": "stream",
     "text": [
      "Nilai yang hilang pada PA_metadata_train_top500:\n",
      "lon                   0\n",
      "lat                   0\n",
      "year                  0\n",
      "geoUncertaintyInM    24\n",
      "areaInM2             48\n",
      "region                0\n",
      "country               0\n",
      "speciesId             0\n",
      "surveyId              0\n",
      "dtype: int64\n",
      "Nilai yang hilang pada P0_metadata_train_top500:\n",
      "publisher            0\n",
      "year                 0\n",
      "month                0\n",
      "day                  0\n",
      "lat                  0\n",
      "lon                  0\n",
      "geoUncertaintyInM    0\n",
      "taxonRank            0\n",
      "date                 0\n",
      "dayOfYear            0\n",
      "speciesId            0\n",
      "surveyId             0\n",
      "dtype: int64\n",
      "Nilai yang hilang pada PA_soil_train_top500:\n",
      "surveyId              0\n",
      "Soilgrid-bdod        91\n",
      "Soilgrid-cec         89\n",
      "Soilgrid-cfvo        89\n",
      "Soilgrid-clay        89\n",
      "Soilgrid-nitrogen    89\n",
      "Soilgrid-phh2o       89\n",
      "Soilgrid-sand        89\n",
      "Soilgrid-silt        89\n",
      "Soilgrid-soc         91\n",
      "dtype: int64\n",
      "Nilai yang hilang pada P0_soil_train_top500:\n",
      "surveyId              0\n",
      "Soilgrid-bdod        91\n",
      "Soilgrid-cec         89\n",
      "Soilgrid-cfvo        89\n",
      "Soilgrid-clay        89\n",
      "Soilgrid-nitrogen    89\n",
      "Soilgrid-phh2o       89\n",
      "Soilgrid-sand        89\n",
      "Soilgrid-silt        89\n",
      "Soilgrid-soc         91\n",
      "dtype: int64\n"
     ]
    }
   ],
   "source": [
    "# Memeriksa nilai yang hilang pada setiap kolom\n",
    "PA_metadata_train_top500_missing = PA_metadata_train_top500.isnull().sum()\n",
    "P0_metadata_train_top500_missing = P0_metadata_train_top500.isnull().sum()\n",
    "PA_soil_train_top500_missing = PA_soil_train_top500.isnull().sum()\n",
    "P0_soil_train_top500_missing = P0_soil_train_top500.isnull().sum()\n",
    "\n",
    "# Menampilkan jumlah nilai yang hilang per kolom\n",
    "print(\"Nilai yang hilang pada PA_metadata_train_top500:\")\n",
    "print(PA_metadata_train_top500_missing)\n",
    "\n",
    "print(\"Nilai yang hilang pada P0_metadata_train_top500:\")\n",
    "print(P0_metadata_train_top500_missing)\n",
    "\n",
    "print(\"Nilai yang hilang pada PA_soil_train_top500:\")\n",
    "print(PA_soil_train_top500_missing)\n",
    "\n",
    "print(\"Nilai yang hilang pada P0_soil_train_top500:\")\n",
    "print(P0_soil_train_top500_missing)"
   ]
  },
  {
   "cell_type": "markdown",
   "id": "7589bedc-3666-442a-8f7a-334482aedcee",
   "metadata": {},
   "source": [
    "Tujuan dari kode ini adalah untuk mengatasi masalah missing value (nilai yang hilang) pada dua kolom di dataset PA_metadata_train_top500 dengan cara imputasi, yaitu mengisi nilai yang hilang menggunakan nilai statistik tertentu. Kolom geoUncertaintyInM diisi dengan rata-rata (mean) dari kolom tersebut, sedangkan kolom areaInM2 diisi dengan nilai tengah (median). Pendekatan ini digunakan agar data tidak kehilangan baris akibat nilai kosong dan tetap bisa digunakan dalam proses analisis atau pelatihan model, dengan asumsi bahwa nilai mean dan median dapat mewakili nilai-nilai yang hilang secara wajar."
   ]
  },
  {
   "cell_type": "code",
   "execution_count": 130,
   "id": "J0xDxpO8s9QY",
   "metadata": {
    "id": "J0xDxpO8s9QY"
   },
   "outputs": [],
   "source": [
    "# Menggunakan mean dan median untuk mengisi missing value pada PA metadata\n",
    "PA_metadata_train_top500.loc[:, 'geoUncertaintyInM'] = PA_metadata_train_top500['geoUncertaintyInM'].fillna(PA_metadata_train_top500['geoUncertaintyInM'].mean())\n",
    "PA_metadata_train_top500.loc[:, 'areaInM2'] = PA_metadata_train_top500['areaInM2'].fillna(PA_metadata_train_top500['areaInM2'].median())"
   ]
  },
  {
   "cell_type": "markdown",
   "id": "3caa9778-5796-4d32-9646-cf2edb0da721",
   "metadata": {},
   "source": [
    "Tujuan dari kode ini adalah untuk mengatasi nilai yang hilang (missing values) pada berbagai kolom tanah (Soilgrid-*) dalam dataset PA_soil_train_top500 dengan cara imputasi menggunakan nilai rata-rata (mean) dari masing-masing kolom"
   ]
  },
  {
   "cell_type": "code",
   "execution_count": 132,
   "id": "CKAU1JgdXKig",
   "metadata": {
    "id": "CKAU1JgdXKig"
   },
   "outputs": [],
   "source": [
    "# Mengatasi Nilai yang Hilang pada PA_soil_train_top500\n",
    "PA_soil_train_top500 = PA_soil_train_top500.copy()\n",
    "\n",
    "# Lanjutkan imputasi\n",
    "PA_soil_train_top500['Soilgrid-bdod'] = PA_soil_train_top500['Soilgrid-bdod'].fillna(PA_soil_train_top500['Soilgrid-bdod'].mean())\n",
    "PA_soil_train_top500['Soilgrid-cec'] = PA_soil_train_top500['Soilgrid-cec'].fillna(PA_soil_train_top500['Soilgrid-cec'].mean())\n",
    "PA_soil_train_top500['Soilgrid-cfvo'] = PA_soil_train_top500['Soilgrid-cfvo'].fillna(PA_soil_train_top500['Soilgrid-cfvo'].mean())\n",
    "PA_soil_train_top500['Soilgrid-clay'] = PA_soil_train_top500['Soilgrid-clay'].fillna(PA_soil_train_top500['Soilgrid-clay'].mean())\n",
    "PA_soil_train_top500['Soilgrid-nitrogen'] = PA_soil_train_top500['Soilgrid-nitrogen'].fillna(PA_soil_train_top500['Soilgrid-nitrogen'].mean())\n",
    "PA_soil_train_top500['Soilgrid-phh2o'] = PA_soil_train_top500['Soilgrid-phh2o'].fillna(PA_soil_train_top500['Soilgrid-phh2o'].mean())\n",
    "PA_soil_train_top500['Soilgrid-sand'] = PA_soil_train_top500['Soilgrid-sand'].fillna(PA_soil_train_top500['Soilgrid-sand'].mean())\n",
    "PA_soil_train_top500['Soilgrid-silt'] = PA_soil_train_top500['Soilgrid-silt'].fillna(PA_soil_train_top500['Soilgrid-silt'].mean())\n",
    "PA_soil_train_top500['Soilgrid-soc'] = PA_soil_train_top500['Soilgrid-soc'].fillna(PA_soil_train_top500['Soilgrid-soc'].mean())"
   ]
  },
  {
   "cell_type": "markdown",
   "id": "77c87163-9aa0-436e-a246-27770c643502",
   "metadata": {},
   "source": [
    "Tujuan dari kode ini adalah untuk mengatasi nilai yang hilang (missing values) pada berbagai kolom tanah (Soilgrid-*) dalam dataset P0_soil_train_top500 dengan cara imputasi menggunakan nilai rata-rata (mean) dari masing-masing kolom"
   ]
  },
  {
   "cell_type": "code",
   "execution_count": 134,
   "id": "rp_tlPnavtpw",
   "metadata": {
    "id": "rp_tlPnavtpw"
   },
   "outputs": [],
   "source": [
    "# Mengatasi Nilai yang Hilang pada P0_soil_train_top500\n",
    "P0_soil_train_top500_copy = P0_soil_train_top500.copy()\n",
    "\n",
    "# Imputasi nilai yang hilang pada P0_soil_train_top500_copy dengan rata-rata\n",
    "P0_soil_train_top500_copy['Soilgrid-bdod'] = P0_soil_train_top500_copy['Soilgrid-bdod'].fillna(P0_soil_train_top500_copy['Soilgrid-bdod'].mean())\n",
    "P0_soil_train_top500_copy['Soilgrid-cec'] = P0_soil_train_top500_copy['Soilgrid-cec'].fillna(P0_soil_train_top500_copy['Soilgrid-cec'].mean())\n",
    "P0_soil_train_top500_copy['Soilgrid-cfvo'] = P0_soil_train_top500_copy['Soilgrid-cfvo'].fillna(P0_soil_train_top500_copy['Soilgrid-cfvo'].mean())\n",
    "P0_soil_train_top500_copy['Soilgrid-clay'] = P0_soil_train_top500_copy['Soilgrid-clay'].fillna(P0_soil_train_top500_copy['Soilgrid-clay'].mean())\n",
    "P0_soil_train_top500_copy['Soilgrid-nitrogen'] = P0_soil_train_top500_copy['Soilgrid-nitrogen'].fillna(P0_soil_train_top500_copy['Soilgrid-nitrogen'].mean())\n",
    "P0_soil_train_top500_copy['Soilgrid-phh2o'] = P0_soil_train_top500_copy['Soilgrid-phh2o'].fillna(P0_soil_train_top500_copy['Soilgrid-phh2o'].mean())\n",
    "P0_soil_train_top500_copy['Soilgrid-sand'] = P0_soil_train_top500_copy['Soilgrid-sand'].fillna(P0_soil_train_top500_copy['Soilgrid-sand'].mean())\n",
    "P0_soil_train_top500_copy['Soilgrid-silt'] = P0_soil_train_top500_copy['Soilgrid-silt'].fillna(P0_soil_train_top500_copy['Soilgrid-silt'].mean())\n",
    "P0_soil_train_top500_copy['Soilgrid-soc'] = P0_soil_train_top500_copy['Soilgrid-soc'].fillna(P0_soil_train_top500_copy['Soilgrid-soc'].mean())"
   ]
  },
  {
   "cell_type": "code",
   "execution_count": 135,
   "id": "X5cpo2rNdTBc",
   "metadata": {
    "colab": {
     "base_uri": "https://localhost:8080/"
    },
    "id": "X5cpo2rNdTBc",
    "outputId": "3ffd29ad-0412-42d9-a830-289e4fe20b03"
   },
   "outputs": [
    {
     "name": "stdout",
     "output_type": "stream",
     "text": [
      "Empty DataFrame\n",
      "Columns: [lat, lon, geoUncertaintyInM, speciesId, surveyId, Soilgrid-bdod, Soilgrid-cec, Soilgrid-cfvo, Soilgrid-clay, Soilgrid-nitrogen, Soilgrid-phh2o, Soilgrid-sand, Soilgrid-silt, Soilgrid-soc]\n",
      "Index: []\n",
      "Data yang telah digabungkan telah disimpan.\n"
     ]
    }
   ],
   "source": [
    "# Menggabungkan PA metadata dan PA soil berdasarkan surveyId\n",
    "PA_metadata_selected = PA_metadata_train_top500[['lat', 'lon', 'geoUncertaintyInM', 'speciesId', 'surveyId']]\n",
    "PA_soil_selected = PA_soil_train_top500[['surveyId', 'Soilgrid-bdod', 'Soilgrid-cec', 'Soilgrid-cfvo',\n",
    "                                         'Soilgrid-clay', 'Soilgrid-nitrogen', 'Soilgrid-phh2o',\n",
    "                                         'Soilgrid-sand', 'Soilgrid-silt', 'Soilgrid-soc']]\n",
    "\n",
    "# Gabungkan PA metadata dengan PA soil berdasarkan surveyId\n",
    "PA_merged = pd.merge(PA_metadata_selected, PA_soil_selected, on='surveyId', how='inner')\n",
    "\n",
    "# Menampilkan hasil gabungan PA metadata dan PA soil\n",
    "print(PA_merged.head())\n",
    "\n",
    "# Langkah 3: Menyimpan hasil gabungan ke file CSV\n",
    "PA_merged.to_csv('PA_merged.csv', index=False)\n",
    "print(\"Data yang telah digabungkan telah disimpan.\")"
   ]
  },
  {
   "cell_type": "code",
   "execution_count": 136,
   "id": "ZettducmdxHm",
   "metadata": {
    "colab": {
     "base_uri": "https://localhost:8080/"
    },
    "id": "ZettducmdxHm",
    "outputId": "195b4f01-a8f5-4293-f778-691a85c6e4da"
   },
   "outputs": [
    {
     "name": "stdout",
     "output_type": "stream",
     "text": [
      "        lat       lon  geoUncertaintyInM  speciesId  surveyId  Soilgrid-bdod  \\\n",
      "0  43.74605  1.573057                6.0     3383.0         1          145.0   \n",
      "1  42.12559  0.314948                5.0     1152.0         2          134.0   \n",
      "2  48.29520 -0.934518               24.9     6772.0         3          127.0   \n",
      "3  53.63367 -2.644535                8.0     3318.0         4          103.0   \n",
      "4  49.79471  7.925086               15.0     3374.0         5          138.0   \n",
      "\n",
      "   Soilgrid-cec  Soilgrid-cfvo  Soilgrid-clay  Soilgrid-nitrogen  \\\n",
      "0         212.0          130.0          303.0              134.0   \n",
      "1         213.0          189.0          302.0              184.0   \n",
      "2         211.0          109.0          187.0              257.0   \n",
      "3         212.0          123.0          216.0              466.0   \n",
      "4         195.0          131.0          310.0              198.0   \n",
      "\n",
      "   Soilgrid-phh2o  Soilgrid-sand  Soilgrid-silt  Soilgrid-soc  \n",
      "0            73.0          306.0          389.0         122.0  \n",
      "1            74.0          294.0          403.0         223.0  \n",
      "2            59.0          132.0          681.0         301.0  \n",
      "3            56.0          429.0          355.0        1044.0  \n",
      "4            73.0          208.0          480.0         208.0  \n",
      "Data yang telah digabungkan telah disimpan.\n"
     ]
    }
   ],
   "source": [
    "# Menggabungkan PO metadata dan PO soil berdasarkan surveyId\n",
    "P0_metadata_selected = P0_metadata_train_top500[['lat', 'lon', 'geoUncertaintyInM', 'speciesId', 'surveyId']]\n",
    "P0_soil_selected = P0_soil_train_top500[['surveyId', 'Soilgrid-bdod', 'Soilgrid-cec', 'Soilgrid-cfvo',\n",
    "                                         'Soilgrid-clay', 'Soilgrid-nitrogen', 'Soilgrid-phh2o',\n",
    "                                         'Soilgrid-sand', 'Soilgrid-silt', 'Soilgrid-soc']]\n",
    "\n",
    "# Gabungkan PO metadata dengan PO soil berdasarkan surveyId\n",
    "PO_merged = pd.merge(P0_metadata_selected, P0_soil_selected, on='surveyId', how='inner')\n",
    "\n",
    "# Menampilkan hasil gabungan PO metadata dan PO soil\n",
    "print(PO_merged.head())\n",
    "\n",
    "# Langkah 3: Menyimpan hasil gabungan ke file CSV\n",
    "PO_merged.to_csv('PO_merged.csv', index=False)\n",
    "print(\"Data yang telah digabungkan telah disimpan.\")"
   ]
  },
  {
   "cell_type": "code",
   "execution_count": 137,
   "id": "fefCPTmcgy59",
   "metadata": {
    "colab": {
     "base_uri": "https://localhost:8080/"
    },
    "id": "fefCPTmcgy59",
    "outputId": "fdf1ffc5-1e28-4b4f-94fa-b6f381728490"
   },
   "outputs": [
    {
     "name": "stdout",
     "output_type": "stream",
     "text": [
      "Kolom yang sama antara PA_merged dan PO_merged:\n",
      "Index(['lat', 'lon', 'geoUncertaintyInM', 'speciesId', 'surveyId',\n",
      "       'Soilgrid-bdod', 'Soilgrid-cec', 'Soilgrid-cfvo', 'Soilgrid-clay',\n",
      "       'Soilgrid-nitrogen', 'Soilgrid-phh2o', 'Soilgrid-sand', 'Soilgrid-silt',\n",
      "       'Soilgrid-soc'],\n",
      "      dtype='object')\n"
     ]
    }
   ],
   "source": [
    "# Mencari fitur yang akan digunakan untuk train\n",
    "\n",
    "# Menampilkan kolom-kolom yang ada pada PA_merged dan PO_merged\n",
    "PA_columns = PA_merged.columns\n",
    "PO_columns = PO_merged.columns\n",
    "\n",
    "# Mencari kolom yang sama antara PA_merged dan PO_merged\n",
    "common_columns = PA_columns.intersection(PO_columns)\n",
    "\n",
    "# Menampilkan kolom yang sama\n",
    "print(\"Kolom yang sama antara PA_merged dan PO_merged:\")\n",
    "print(common_columns)"
   ]
  },
  {
   "cell_type": "code",
   "execution_count": 138,
   "id": "ucUXLTuHqaDj",
   "metadata": {
    "colab": {
     "base_uri": "https://localhost:8080/"
    },
    "id": "ucUXLTuHqaDj",
    "outputId": "eb0924d1-ac0e-4c23-ca44-3a0f5f8b7e63"
   },
   "outputs": [
    {
     "name": "stdout",
     "output_type": "stream",
     "text": [
      "        lat       lon  geoUncertaintyInM  speciesId  surveyId  Soilgrid-bdod  \\\n",
      "0  43.74605  1.573057                6.0     3383.0         1          145.0   \n",
      "1  42.12559  0.314948                5.0     1152.0         2          134.0   \n",
      "2  48.29520 -0.934518               24.9     6772.0         3          127.0   \n",
      "3  53.63367 -2.644535                8.0     3318.0         4          103.0   \n",
      "4  49.79471  7.925086               15.0     3374.0         5          138.0   \n",
      "\n",
      "   Soilgrid-cec  Soilgrid-cfvo  Soilgrid-clay  Soilgrid-nitrogen  \\\n",
      "0         212.0          130.0          303.0              134.0   \n",
      "1         213.0          189.0          302.0              184.0   \n",
      "2         211.0          109.0          187.0              257.0   \n",
      "3         212.0          123.0          216.0              466.0   \n",
      "4         195.0          131.0          310.0              198.0   \n",
      "\n",
      "   Soilgrid-phh2o  Soilgrid-sand  Soilgrid-silt  Soilgrid-soc  \n",
      "0            73.0          306.0          389.0         122.0  \n",
      "1            74.0          294.0          403.0         223.0  \n",
      "2            59.0          132.0          681.0         301.0  \n",
      "3            56.0          429.0          355.0        1044.0  \n",
      "4            73.0          208.0          480.0         208.0  \n",
      "Data yang telah digabungkan dan disimpan sebagai final_merged_data.csv.\n"
     ]
    }
   ],
   "source": [
    "# Pilih hanya kolom yang relevan (kolom yang sama antara PA_merged dan PO_merged)\n",
    "common_columns = ['lat', 'lon', 'geoUncertaintyInM', 'speciesId', 'surveyId',\n",
    "                  'Soilgrid-bdod', 'Soilgrid-cec', 'Soilgrid-cfvo', 'Soilgrid-clay',\n",
    "                  'Soilgrid-nitrogen', 'Soilgrid-phh2o', 'Soilgrid-sand', 'Soilgrid-silt',\n",
    "                  'Soilgrid-soc']\n",
    "\n",
    "PA_merged_selected = PA_merged[common_columns]\n",
    "PO_merged_selected = PO_merged[common_columns]\n",
    "\n",
    "# Menggabungkan PA_merged_selected dan PO_merged_selected secara vertikal\n",
    "final_merged_data = pd.concat([PA_merged_selected, PO_merged_selected], axis=0, ignore_index=True)\n",
    "\n",
    "# Menampilkan beberapa baris pertama dari final_merged_data untuk memastikan hasil gabungan\n",
    "print(final_merged_data.head())\n",
    "\n",
    "# Menyimpan final_merged_data ke dalam file CSV\n",
    "final_merged_data.to_csv('final_merged_data.csv', index=False)\n",
    "print(\"Data yang telah digabungkan dan disimpan sebagai final_merged_data.csv.\")"
   ]
  },
  {
   "cell_type": "code",
   "execution_count": 139,
   "id": "55ebfab5",
   "metadata": {},
   "outputs": [
    {
     "data": {
      "text/html": [
       "<a href='final_merged_data.csv' target='_blank'>final_merged_data.csv</a><br>"
      ],
      "text/plain": [
       "C:\\Users\\ASUS\\Documents\\semester 6\\DAMI\\proyek\\final_merged_data.csv"
      ]
     },
     "execution_count": 139,
     "metadata": {},
     "output_type": "execute_result"
    }
   ],
   "source": [
    "from IPython.display import FileLink\n",
    "FileLink(r'final_merged_data.csv')"
   ]
  },
  {
   "cell_type": "markdown",
   "id": "9c5ef0d3-4965-413a-8187-15d0ef2beea6",
   "metadata": {},
   "source": [
    "Kode tersebut berfungsi untuk membuat tautan unduhan di Jupyter Notebook agar dapat langsung mengunduh file final_merged_data.csv."
   ]
  },
  {
   "cell_type": "markdown",
   "id": "5mFpZLTmwWCH",
   "metadata": {
    "id": "5mFpZLTmwWCH"
   },
   "source": [
    "Modeling"
   ]
  },
  {
   "cell_type": "code",
   "execution_count": 141,
   "id": "zgnmAmPg8C7y",
   "metadata": {
    "colab": {
     "base_uri": "https://localhost:8080/"
    },
    "id": "zgnmAmPg8C7y",
    "outputId": "81fb3aac-aea3-4110-c106-a21e164514f0"
   },
   "outputs": [
    {
     "name": "stdout",
     "output_type": "stream",
     "text": [
      "lat                   0\n",
      "lon                   0\n",
      "geoUncertaintyInM     0\n",
      "speciesId             0\n",
      "surveyId              0\n",
      "Soilgrid-bdod        89\n",
      "Soilgrid-cec         81\n",
      "Soilgrid-cfvo        81\n",
      "Soilgrid-clay        81\n",
      "Soilgrid-nitrogen    81\n",
      "Soilgrid-phh2o       81\n",
      "Soilgrid-sand        81\n",
      "Soilgrid-silt        81\n",
      "Soilgrid-soc         89\n",
      "dtype: int64\n"
     ]
    }
   ],
   "source": [
    "# Memeriksa apakah ada nilai kosong (NaN) di seluruh dataframe\n",
    "print(final_merged_data.isnull().sum())"
   ]
  },
  {
   "cell_type": "code",
   "execution_count": 142,
   "id": "6569c612",
   "metadata": {},
   "outputs": [
    {
     "name": "stdout",
     "output_type": "stream",
     "text": [
      "        lat       lon  geoUncertaintyInM  speciesId  surveyId  Soilgrid-bdod  \\\n",
      "0  43.74605  1.573057                6.0     3383.0       1.0          145.0   \n",
      "1  42.12559  0.314948                5.0     1152.0       2.0          134.0   \n",
      "2  48.29520 -0.934518               24.9     6772.0       3.0          127.0   \n",
      "3  53.63367 -2.644535                8.0     3318.0       4.0          103.0   \n",
      "4  49.79471  7.925086               15.0     3374.0       5.0          138.0   \n",
      "\n",
      "   Soilgrid-cec  Soilgrid-cfvo  Soilgrid-clay  Soilgrid-nitrogen  \\\n",
      "0         212.0          130.0          303.0              134.0   \n",
      "1         213.0          189.0          302.0              184.0   \n",
      "2         211.0          109.0          187.0              257.0   \n",
      "3         212.0          123.0          216.0              466.0   \n",
      "4         195.0          131.0          310.0              198.0   \n",
      "\n",
      "   Soilgrid-phh2o  Soilgrid-sand  Soilgrid-silt  Soilgrid-soc  \n",
      "0            73.0          306.0          389.0         122.0  \n",
      "1            74.0          294.0          403.0         223.0  \n",
      "2            59.0          132.0          681.0         301.0  \n",
      "3            56.0          429.0          355.0        1044.0  \n",
      "4            73.0          208.0          480.0         208.0  \n",
      "Data yang telah diimputasi dan disimpan sebagai final_merged_data_imputed.csv.\n"
     ]
    }
   ],
   "source": [
    "import pandas as pd\n",
    "from sklearn.impute import SimpleImputer\n",
    "\n",
    "# Memastikan DataFrame Anda telah dibuat\n",
    "# final_merged_data sudah ada berdasarkan kode yang Anda berikan sebelumnya\n",
    "\n",
    "# Membuat SimpleImputer dengan strategi 'mean' untuk mengisi missing value\n",
    "imputer = SimpleImputer(strategy='mean')\n",
    "\n",
    "# Mengimputasi/mengisi missing value pada seluruh DataFrame\n",
    "final_merged_data_imputed = pd.DataFrame(imputer.fit_transform(final_merged_data), columns=final_merged_data.columns)\n",
    "\n",
    "# Menampilkan beberapa baris pertama dari hasil imputasi\n",
    "print(final_merged_data_imputed.head())\n",
    "\n",
    "# Menyimpan data yang sudah diimputasi ke dalam file CSV\n",
    "final_merged_data_imputed.to_csv('final_merged_data_imputed.csv', index=False)\n",
    "print(\"Data yang telah diimputasi dan disimpan sebagai final_merged_data_imputed.csv.\")"
   ]
  },
  {
   "cell_type": "code",
   "execution_count": 143,
   "id": "13cbbd07-1e89-4e57-94a3-8ee9f7bb8109",
   "metadata": {
    "scrolled": true
   },
   "outputs": [
    {
     "name": "stdout",
     "output_type": "stream",
     "text": [
      "Fitting 2 folds for each of 216 candidates, totalling 432 fits\n",
      "Accuracy with tuned model: 0.867\n"
     ]
    },
    {
     "data": {
      "image/png": "[encoded data removed]",
      "text/plain": [
       "<Figure size 1000x600 with 1 Axes>"
      ]
     },
     "metadata": {},
     "output_type": "display_data"
    },
    {
     "name": "stdout",
     "output_type": "stream",
     "text": [
      "Prediction file saved as submission.csv\n"
     ]
    }
   ],
   "source": [
    "import pandas as pd\n",
    "from sklearn.ensemble import RandomForestClassifier\n",
    "from sklearn.model_selection import StratifiedKFold, GridSearchCV\n",
    "from sklearn.metrics import accuracy_score, f1_score\n",
    "import matplotlib.pyplot as plt\n",
    "\n",
    "# Load dataset\n",
    "train_data = pd.read_csv('final_merged_data_imputed.csv')\n",
    "\n",
    "# Prepare features and target\n",
    "X = train_data.drop(columns=['speciesId', 'surveyId'])\n",
    "y = train_data['speciesId']\n",
    "\n",
    "# Remove classes with only one sample (optional)\n",
    "train_data_filtered = train_data[train_data['speciesId'].isin(y.value_counts()[y.value_counts() > 1].index)]\n",
    "\n",
    "# Prepare filtered data\n",
    "X_filtered = train_data_filtered.drop(columns=['speciesId', 'surveyId'])\n",
    "y_filtered = train_data_filtered['speciesId']\n",
    "\n",
    "# Use StratifiedKFold with the adjusted n_splits based on the smallest class size\n",
    "n_splits = min(5, y_filtered.value_counts().min())\n",
    "sss = StratifiedKFold(n_splits=n_splits, shuffle=True, random_state=42)\n",
    "\n",
    "# Initialize RandomForest model\n",
    "model = RandomForestClassifier(random_state=42)\n",
    "\n",
    "# Hyperparameter grid for tuning\n",
    "param_grid = {\n",
    "    'n_estimators': [100, 200, 500],\n",
    "    'max_depth': [None, 10, 20, 30],\n",
    "    'min_samples_split': [2, 5, 10],\n",
    "    'min_samples_leaf': [1, 2, 4],\n",
    "    'max_features': ['sqrt', 'log2']\n",
    "}\n",
    "\n",
    "# Perform GridSearchCV\n",
    "grid_search = GridSearchCV(model, param_grid, cv=sss, n_jobs=-1, verbose=2)\n",
    "grid_search.fit(X_filtered, y_filtered)\n",
    "\n",
    "# Best model\n",
    "best_model = grid_search.best_estimator_\n",
    "\n",
    "# Train the best model\n",
    "best_model.fit(X_filtered, y_filtered)\n",
    "\n",
    "# Predictions and evaluation\n",
    "y_pred = best_model.predict(X_filtered)\n",
    "\n",
    "# Calculate accuracy\n",
    "accuracy = accuracy_score(y_filtered, y_pred)\n",
    "print(f\"Accuracy with tuned model: {accuracy:.3f}\")\n",
    "\n",
    "# Feature importance plot\n",
    "feature_importances = best_model.feature_importances_\n",
    "plt.figure(figsize=(10, 6))\n",
    "plt.barh(X_filtered.columns, feature_importances)\n",
    "plt.xlabel(\"Feature Importance\")\n",
    "plt.title(\"Feature Importance from RandomForest\")\n",
    "plt.show()\n",
    "\n",
    "# Create submission file\n",
    "output = pd.DataFrame({'surveyId': train_data_filtered['surveyId'], 'predictions': y_pred})\n",
    "output['predictions'] = output.groupby('surveyId')['predictions'].transform(lambda x: ' '.join(map(str, sorted(x))))\n",
    "output = output.drop_duplicates(subset=['surveyId'])\n",
    "\n",
    "# Save the result as CSV\n",
    "output[['surveyId', 'predictions']].to_csv('submission.csv', index=False)\n",
    "print(\"Prediction file saved as submission.csv\")"
   ]
  },
  {
   "cell_type": "markdown",
   "id": "a9c2bc40-033e-4b5b-8351-9f7022a3bcde",
   "metadata": {},
   "source": [
    "melakukan pelatihan model Random Forest untuk klasifikasi spesies tanaman berdasarkan data yang telah dibersihkan. Pertama, data dimuat dan dipisahkan menjadi fitur (X) dan target (y). Kelas dengan hanya satu sampel dihapus untuk memastikan validasi silang yang seimbang. Kemudian digunakan StratifiedKFold untuk menjaga distribusi label saat pembagian data, dan GridSearchCV diterapkan untuk mencari kombinasi hyperparameter terbaik. Setelah model terbaik ditemukan dan dilatih ulang, akurasinya dievaluasi, pentingnya fitur divisualisasikan, dan hasil prediksi disusun berdasarkan surveyId lalu disimpan dalam file submission.csv.\n",
    "\n",
    "Grafik menampilkan feature importance, yaitu seberapa besar kontribusi setiap fitur dalam menentukan prediksi model. Dari grafik tersebut, fitur lat (latitude) memiliki pengaruh terbesar, diikuti oleh lon (longitude) dan beberapa variabel tanah seperti Soilgrid-nitrogen dan Soilgrid-cfvo. Hal ini menunjukkan bahwa lokasi geografis dan karakteristik tanah sangat berperan dalam memprediksi jenis spesies."
   ]
  },
  {
   "cell_type": "code",
   "execution_count": 144,
   "id": "a2d2ec6f-d9db-49b6-a148-fba3ba81c276",
   "metadata": {},
   "outputs": [
    {
     "name": "stdout",
     "output_type": "stream",
     "text": [
      "Weighted F1-score: 0.854\n"
     ]
    }
   ],
   "source": [
    "from sklearn.metrics import f1_score\n",
    "\n",
    "# Predictions and evaluation\n",
    "y_pred = best_model.predict(X_filtered)\n",
    "\n",
    "# Calculate F1-score (weighted) for the overall model\n",
    "f1 = f1_score(y_filtered, y_pred, average='weighted')  # Weighted F1-score for multi-class\n",
    "print(f\"Weighted F1-score: {f1:.3f}\")"
   ]
  },
  {
   "cell_type": "markdown",
   "id": "c836c249-0160-4419-98ac-2bbc4fb273f9",
   "metadata": {},
   "source": [
    "mengevaluasi performa model Random Forest dengan menghitung F1-score menggunakan metode weighted average, yang memperhitungkan proporsi tiap kelas dalam kasus klasifikasi multi-kelas. Setelah model membuat prediksi (y_pred), fungsi f1_score dari sklearn.metrics digunakan untuk menghitung nilai F1 secara menyeluruh, lalu hasilnya ditampilkan dalam format desimal tiga angka."
   ]
  },
  {
   "cell_type": "markdown",
   "id": "12460169",
   "metadata": {},
   "source": [
    "Deployment"
   ]
  },
  {
   "cell_type": "code",
   "execution_count": 168,
   "id": "ffa8e2ae-6173-4db5-b0bd-ed0fa5000e6b",
   "metadata": {},
   "outputs": [
    {
     "data": {
      "text/plain": [
       "['model.pkl']"
      ]
     },
     "execution_count": 168,
     "metadata": {},
     "output_type": "execute_result"
    }
   ],
   "source": [
    "import pandas as pd\n",
    "from sklearn.model_selection import train_test_split\n",
    "from sklearn.ensemble import RandomForestClassifier\n",
    "import joblib\n",
    "\n",
    "# 1. Load dataset\n",
    "df = pd.read_csv('final_merged_data_imputed.csv')\n",
    "\n",
    "# 2. Bagi fitur dan label (ganti 'species_id' sesuai kolom target)\n",
    "X = df.drop('speciesId', axis=1)\n",
    "y = df['speciesId']\n",
    "\n",
    "# 3. Bagi data untuk pelatihan dan pengujian\n",
    "X_train, X_test, y_train, y_test = train_test_split(X, y, test_size=0.2, random_state=42)\n",
    "\n",
    "# 4. Latih model\n",
    "model = RandomForestClassifier()\n",
    "model.fit(X_train, y_train)\n",
    "\n",
    "# 5. Simpan model yang sudah dilatih\n",
    "joblib.dump(model, 'model.pkl')\n"
   ]
  },
  {
   "cell_type": "markdown",
   "id": "6e99a804-334a-4297-8280-12e0adc082cd",
   "metadata": {},
   "source": [
    "melatih model Random Forest dan kemudian menyimpannya ke dalam file bernama model.pkl menggunakan pustaka joblib. Joblib digunakan untuk memuat model machine learning yang sudah dilatih sebelumnya"
   ]
  },
  {
   "cell_type": "code",
   "execution_count": 164,
   "id": "136b5998",
   "metadata": {},
   "outputs": [
    {
     "data": {
      "text/html": [
       "<a href='model.pkl' target='_blank'>model.pkl</a><br>"
      ],
      "text/plain": [
       "C:\\Users\\ASUS\\Documents\\semester 6\\DAMI\\proyek\\model.pkl"
      ]
     },
     "execution_count": 164,
     "metadata": {},
     "output_type": "execute_result"
    }
   ],
   "source": [
    "from IPython.display import FileLink\n",
    "\n",
    "# Membuat link untuk mengunduh model\n",
    "FileLink('model.pkl')"
   ]
  }
 ],
 "metadata": {
  "colab": {
   "provenance": []
  },
  "kernelspec": {
   "display_name": "Python 3 (ipykernel)",
   "language": "python",
   "name": "python3"
  },
  "language_info": {
   "codemirror_mode": {
    "name": "ipython",
    "version": 3
   },
   "file_extension": ".py",
   "mimetype": "text/x-python",
   "name": "python",
   "nbconvert_exporter": "python",
   "pygments_lexer": "ipython3",
   "version": "3.12.4"
  }
 },
 "nbformat": 4,
 "nbformat_minor": 5
}
