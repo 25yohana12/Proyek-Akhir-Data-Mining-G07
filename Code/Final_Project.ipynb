{
 "cells": [
  {
   "cell_type": "markdown",
   "id": "cb407659",
   "metadata": {},
   "source": [
    "## DATA CLEANING"
   ]
  },
  {
   "cell_type": "code",
   "execution_count": 1,
   "id": "8b264653",
   "metadata": {},
   "outputs": [
    {
     "data": {
      "text/html": [
       "<div>\n",
       "<style scoped>\n",
       "    .dataframe tbody tr th:only-of-type {\n",
       "        vertical-align: middle;\n",
       "    }\n",
       "\n",
       "    .dataframe tbody tr th {\n",
       "        vertical-align: top;\n",
       "    }\n",
       "\n",
       "    .dataframe thead th {\n",
       "        text-align: right;\n",
       "    }\n",
       "</style>\n",
       "<table border=\"1\" class=\"dataframe\">\n",
       "  <thead>\n",
       "    <tr style=\"text-align: right;\">\n",
       "      <th></th>\n",
       "      <th>publisher</th>\n",
       "      <th>year</th>\n",
       "      <th>month</th>\n",
       "      <th>day</th>\n",
       "      <th>lat</th>\n",
       "      <th>lon</th>\n",
       "      <th>geoUncertaintyInM</th>\n",
       "      <th>taxonRank</th>\n",
       "      <th>date</th>\n",
       "      <th>dayOfYear</th>\n",
       "      <th>speciesId</th>\n",
       "      <th>surveyId</th>\n",
       "    </tr>\n",
       "  </thead>\n",
       "  <tbody>\n",
       "    <tr>\n",
       "      <th>0</th>\n",
       "      <td>Pl@ntNet</td>\n",
       "      <td>2019</td>\n",
       "      <td>5.0</td>\n",
       "      <td>5.0</td>\n",
       "      <td>43.74605</td>\n",
       "      <td>1.573057</td>\n",
       "      <td>6.0</td>\n",
       "      <td>SPECIES</td>\n",
       "      <td>2019-05-05</td>\n",
       "      <td>125</td>\n",
       "      <td>3383.0</td>\n",
       "      <td>1</td>\n",
       "    </tr>\n",
       "    <tr>\n",
       "      <th>1</th>\n",
       "      <td>Pl@ntNet</td>\n",
       "      <td>2021</td>\n",
       "      <td>3.0</td>\n",
       "      <td>17.0</td>\n",
       "      <td>42.12559</td>\n",
       "      <td>0.314948</td>\n",
       "      <td>5.0</td>\n",
       "      <td>SPECIES</td>\n",
       "      <td>2021-03-17</td>\n",
       "      <td>76</td>\n",
       "      <td>1152.0</td>\n",
       "      <td>2</td>\n",
       "    </tr>\n",
       "    <tr>\n",
       "      <th>2</th>\n",
       "      <td>Pl@ntNet</td>\n",
       "      <td>2021</td>\n",
       "      <td>6.0</td>\n",
       "      <td>5.0</td>\n",
       "      <td>48.29520</td>\n",
       "      <td>-0.934518</td>\n",
       "      <td>24.9</td>\n",
       "      <td>SPECIES</td>\n",
       "      <td>2021-06-05</td>\n",
       "      <td>156</td>\n",
       "      <td>6772.0</td>\n",
       "      <td>3</td>\n",
       "    </tr>\n",
       "    <tr>\n",
       "      <th>3</th>\n",
       "      <td>iNaturalist.org</td>\n",
       "      <td>2021</td>\n",
       "      <td>6.0</td>\n",
       "      <td>9.0</td>\n",
       "      <td>53.63367</td>\n",
       "      <td>-2.644535</td>\n",
       "      <td>8.0</td>\n",
       "      <td>SPECIES</td>\n",
       "      <td>2021-06-09</td>\n",
       "      <td>160</td>\n",
       "      <td>3318.0</td>\n",
       "      <td>4</td>\n",
       "    </tr>\n",
       "    <tr>\n",
       "      <th>4</th>\n",
       "      <td>iNaturalist.org</td>\n",
       "      <td>2021</td>\n",
       "      <td>4.0</td>\n",
       "      <td>1.0</td>\n",
       "      <td>49.79471</td>\n",
       "      <td>7.925086</td>\n",
       "      <td>15.0</td>\n",
       "      <td>SPECIES</td>\n",
       "      <td>2021-04-01</td>\n",
       "      <td>91</td>\n",
       "      <td>3374.0</td>\n",
       "      <td>5</td>\n",
       "    </tr>\n",
       "  </tbody>\n",
       "</table>\n",
       "</div>"
      ],
      "text/plain": [
       "         publisher  year  month   day       lat       lon  geoUncertaintyInM  \\\n",
       "0         Pl@ntNet  2019    5.0   5.0  43.74605  1.573057                6.0   \n",
       "1         Pl@ntNet  2021    3.0  17.0  42.12559  0.314948                5.0   \n",
       "2         Pl@ntNet  2021    6.0   5.0  48.29520 -0.934518               24.9   \n",
       "3  iNaturalist.org  2021    6.0   9.0  53.63367 -2.644535                8.0   \n",
       "4  iNaturalist.org  2021    4.0   1.0  49.79471  7.925086               15.0   \n",
       "\n",
       "  taxonRank        date  dayOfYear  speciesId  surveyId  \n",
       "0   SPECIES  2019-05-05        125     3383.0         1  \n",
       "1   SPECIES  2021-03-17         76     1152.0         2  \n",
       "2   SPECIES  2021-06-05        156     6772.0         3  \n",
       "3   SPECIES  2021-06-09        160     3318.0         4  \n",
       "4   SPECIES  2021-04-01         91     3374.0         5  "
      ]
     },
     "execution_count": 1,
     "metadata": {},
     "output_type": "execute_result"
    }
   ],
   "source": [
    "# Import dan load dataset\n",
    "import pandas as pd\n",
    "\n",
    "# Load data\n",
    "path = r'C:\\Users\\ASUS\\Downloads\\GLC25_P0_metadata_train.csv'\n",
    "df = pd.read_csv(path)\n",
    "\n",
    "df.head()"
   ]
  },
  {
   "cell_type": "code",
   "execution_count": 2,
   "id": "787b01c0",
   "metadata": {},
   "outputs": [
    {
     "name": "stdout",
     "output_type": "stream",
     "text": [
      "<class 'pandas.core.frame.DataFrame'>\n",
      "RangeIndex: 5079797 entries, 0 to 5079796\n",
      "Data columns (total 12 columns):\n",
      " #   Column             Dtype  \n",
      "---  ------             -----  \n",
      " 0   publisher          object \n",
      " 1   year               int64  \n",
      " 2   month              float64\n",
      " 3   day                float64\n",
      " 4   lat                float64\n",
      " 5   lon                float64\n",
      " 6   geoUncertaintyInM  float64\n",
      " 7   taxonRank          object \n",
      " 8   date               object \n",
      " 9   dayOfYear          int64  \n",
      " 10  speciesId          float64\n",
      " 11  surveyId           int64  \n",
      "dtypes: float64(6), int64(3), object(3)\n",
      "memory usage: 465.1+ MB\n"
     ]
    },
    {
     "data": {
      "text/plain": [
       "publisher               0\n",
       "year                    0\n",
       "month                 484\n",
       "day                  1819\n",
       "lat                     0\n",
       "lon                     0\n",
       "geoUncertaintyInM       0\n",
       "taxonRank               0\n",
       "date                    0\n",
       "dayOfYear               0\n",
       "speciesId               0\n",
       "surveyId                0\n",
       "dtype: int64"
      ]
     },
     "execution_count": 2,
     "metadata": {},
     "output_type": "execute_result"
    }
   ],
   "source": [
    "# Cek detail data\n",
    "df.info()\n",
    "\n",
    "# Cek missing values\n",
    "df.isnull().sum()"
   ]
  },
  {
   "cell_type": "code",
   "execution_count": 3,
   "id": "ec0cc5bf",
   "metadata": {},
   "outputs": [],
   "source": [
    "# Membersihkan missing values\n",
    "df = df.dropna()\n",
    "\n",
    "# Hapus data yang duplikat\n",
    "df = df.drop_duplicates()"
   ]
  },
  {
   "cell_type": "code",
   "execution_count": 4,
   "id": "45a54313",
   "metadata": {},
   "outputs": [],
   "source": [
    "# Validasi Latitude dan Longitud\n",
    "df = df[(df['lat'].between(-90, 90)) & (df['lon'].between(-180, 180))]"
   ]
  },
  {
   "cell_type": "code",
   "execution_count": 5,
   "id": "f0fd0d84",
   "metadata": {},
   "outputs": [],
   "source": [
    "df['date'] = pd.to_datetime(df['date'], errors='coerce')\n",
    "\n",
    "# Hapus baris dengan tanggal tidak valid\n",
    "df = df.dropna(subset=['date'])"
   ]
  },
  {
   "cell_type": "code",
   "execution_count": null,
   "id": "c9d12c0a",
   "metadata": {},
   "outputs": [],
   "source": []
  }
 ],
 "metadata": {
  "kernelspec": {
   "display_name": "Python 3 (ipykernel)",
   "language": "python",
   "name": "python3"
  },
  "language_info": {
   "codemirror_mode": {
    "name": "ipython",
    "version": 3
   },
   "file_extension": ".py",
   "mimetype": "text/x-python",
   "name": "python",
   "nbconvert_exporter": "python",
   "pygments_lexer": "ipython3",
   "version": "3.11.4"
  }
 },
 "nbformat": 4,
 "nbformat_minor": 5
}
